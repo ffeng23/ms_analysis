{
 "cells": [
  {
   "cell_type": "markdown",
   "id": "78e73bcd-21a4-4751-ba08-19d8eb7a4cd2",
   "metadata": {},
   "source": [
    "Testing for using SOM"
   ]
  },
  {
   "cell_type": "code",
   "execution_count": 2,
   "id": "1a4b229d-d31c-411c-beca-c88e5a44189d",
   "metadata": {},
   "outputs": [],
   "source": [
    "library(ggplot2)\n",
    "library(kohonen)"
   ]
  },
  {
   "cell_type": "markdown",
   "id": "b64bc915-9e13-49b2-8b55-e8e47a4e5f68",
   "metadata": {},
   "source": [
    "To be continued......"
   ]
  },
  {
   "cell_type": "code",
   "execution_count": null,
   "id": "f5d4d2d7-8057-46d9-978b-ef9ae51d7358",
   "metadata": {},
   "outputs": [],
   "source": []
  }
 ],
 "metadata": {
  "kernelspec": {
   "display_name": "R",
   "language": "R",
   "name": "ir"
  },
  "language_info": {
   "codemirror_mode": "r",
   "file_extension": ".r",
   "mimetype": "text/x-r-source",
   "name": "R",
   "pygments_lexer": "r",
   "version": "4.2.2"
  }
 },
 "nbformat": 4,
 "nbformat_minor": 5
}
